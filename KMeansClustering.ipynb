{
 "cells": [
  {
   "cell_type": "markdown",
   "metadata": {},
   "source": [
    "### K-Means Clustering"
   ]
  },
  {
   "cell_type": "code",
   "execution_count": null,
   "metadata": {},
   "outputs": [],
   "source": [
    "#importing the libraries\n",
    "import numpy as np\n",
    "import pandas as pd\n",
    "import matplotlib.pyplot as plt\n",
    "import seaborn as sns\n",
    "from mpl_toolkits.mplot3d import Axes3D"
   ]
  },
  {
   "cell_type": "code",
   "execution_count": null,
   "metadata": {},
   "outputs": [],
   "source": [
    "#load the dataset with 3 features\n",
    "student_data_3=pd.read_csv('students_DataSet_revised.csv',usecols = ['avg_exam1', 'avg_exam2', 'exam3_final'])\n",
    "student_data_3.head()"
   ]
  },
  {
   "cell_type": "code",
   "execution_count": null,
   "metadata": {},
   "outputs": [],
   "source": [
    "features_X_3 = student_data_3.iloc[:,:].values"
   ]
  },
  {
   "cell_type": "code",
   "execution_count": null,
   "metadata": {},
   "outputs": [],
   "source": [
    "#check if the centroid already exists in the centroidlist\n",
    "#used to make sure the initial choice of centroids are different from each other\n",
    "def centroidexists(centroid, centroidlist):\n",
    "    return next((True for point in centroidlist if np.array_equal(point, centroid)), False) "
   ]
  },
  {
   "cell_type": "code",
   "execution_count": null,
   "metadata": {},
   "outputs": [],
   "source": [
    "#k is the number of centroids (clusters) to be initialised\n",
    "#initial centroids are randomly chosen from data points\n",
    "#returns the randomly initialized k centroids\n",
    "def initial_centroids(k,features_X):\n",
    "\n",
    "    centroids_rand=features_X[np.random.randint(features_X.shape[0], size=k), :]\n",
    "    exit_loop=True\n",
    "#select the random centroids such that they are different from each other\n",
    "    while(exit_loop):\n",
    "        exit_loop=False\n",
    "        unique_centroids=[]\n",
    "        for i in range(0,k):\n",
    "            if centroidexists(centroids_rand[i],unique_centroids):\n",
    "                centroids_rand=features_X[np.random.randint(features_X.shape[0], size=k), :]\n",
    "                exit_loop=True\n",
    "                break\n",
    "            else:\n",
    "                unique_centroids.append(centroids_rand[i])\n",
    "            \n",
    "    return centroids_rand"
   ]
  },
  {
   "cell_type": "code",
   "execution_count": null,
   "metadata": {},
   "outputs": [],
   "source": [
    "# calculate euclidean distance from data point to centroid\n",
    "def calc_distance(datapoint,centroid):\n",
    "    eucl_dist=np.sqrt(np.sum((datapoint-centroid)**2))\n",
    "    return eucl_dist"
   ]
  },
  {
   "cell_type": "code",
   "execution_count": null,
   "metadata": {},
   "outputs": [],
   "source": [
    "#returns the dictinary containing keys as labels and values are the corresponding data points for each label\n",
    "def assign_centroid(features_X,feature_labels):\n",
    "\n",
    "\n",
    "    centroid_label={}\n",
    "    index=0\n",
    "    for i in feature_labels:\n",
    "        \n",
    "        if i in centroid_label.keys():\n",
    "            \n",
    "            centroid_label[i].append(features_X[index])\n",
    "            \n",
    "        else:\n",
    "            centroid_label[i]=[]\n",
    "           \n",
    "            centroid_label[i].append(features_X[index])\n",
    "            \n",
    "        index+=1\n",
    "    \n",
    "    return centroid_label"
   ]
  },
  {
   "cell_type": "code",
   "execution_count": null,
   "metadata": {},
   "outputs": [],
   "source": [
    "#calculates the centroid with the new datapoints and returns the updated centroids\n",
    "def update_centroids(centroid_label):\n",
    "    new_centroids=[]\n",
    "    \n",
    "    \n",
    "    for label in centroid_label:\n",
    "        a=centroid_label[label]\n",
    "        sum_arr=np.zeros(a[0].shape)\n",
    "        for i in a:\n",
    "            sum_arr=np.add(sum_arr,i)\n",
    "        average=sum_arr/len(a)\n",
    "        new_centroids.append(average)\n",
    "\n",
    "    \n",
    "    return new_centroids"
   ]
  },
  {
   "cell_type": "code",
   "execution_count": null,
   "metadata": {},
   "outputs": [],
   "source": [
    "#assign final cluster labels to datapoints \n",
    "def assign_final_labels(final_centroids_list,final_label_list,features_X):\n",
    "    data_with_labels={}\n",
    "    for i in range(0,len(final_label_list)):\n",
    "        x=final_label_list[i]\n",
    "        if x in data_with_labels.keys():\n",
    "            data_with_labels[x].append(features_X[i])\n",
    "        else:\n",
    "            data_with_labels[x]=[]\n",
    "            data_with_labels[x].append(features_X[i])\n",
    "    return data_with_labels"
   ]
  },
  {
   "cell_type": "code",
   "execution_count": null,
   "metadata": {},
   "outputs": [],
   "source": [
    "#KMeans algorithm\n",
    "#k= number of clusters and iterations= maximum  number of iterations for convergence\n",
    "#when the centroids does not change, convergence condition is reached\n",
    "def KMeans(k,features_X,iterations=100):\n",
    "    centroids=initial_centroids(k,features_X)\n",
    "\n",
    "    prev_centroids=np.zeros(centroids.shape)\n",
    "    count=1\n",
    "    feature_labels=[]\n",
    "    assign_clusters={}\n",
    "    converge=False\n",
    "\n",
    "    while(count<=iterations):\n",
    "        feature_labels=[]\n",
    "        for i in features_X:\n",
    "            distance=[]\n",
    "            for j in range(0,len(centroids)):\n",
    "                temp_distance=calc_distance(i,centroids[j])\n",
    "                distance.append(temp_distance)\n",
    "\n",
    "            feature_labels.append(distance.index(min(distance)))\n",
    "       \n",
    "        assign_clusters=assign_centroid(features_X,feature_labels)\n",
    "       \n",
    "        prev_centroids=np.array(centroids,copy=True)\n",
    "\n",
    "        centroids=update_centroids(assign_clusters)\n",
    "\n",
    "        if np.array_equal(prev_centroids,centroids):\n",
    "            converge=True\n",
    "            print(\"convergence codition is reached at \"+str(count)+\" iterations\\n\")\n",
    "            break\n",
    "        count+=1\n",
    "   \n",
    "    return feature_labels,centroids       \n",
    "      "
   ]
  },
  {
   "cell_type": "code",
   "execution_count": null,
   "metadata": {},
   "outputs": [],
   "source": [
    "#takes the number of clusters and data points as input and returns the labels and cluster centers of KMeans algorithm\n",
    "def testKMeans(k,features_X):\n",
    "\n",
    "    final_label_list,final_centroids_list=KMeans(k,features_X)\n",
    "   \n",
    "    print(\"Final cluster centroids :\\n\",str(final_centroids_list))\n",
    "    return final_centroids_list,final_label_list"
   ]
  },
  {
   "cell_type": "code",
   "execution_count": null,
   "metadata": {},
   "outputs": [],
   "source": [
    "#finding the average distance of the points within the cluster\n",
    "def average_dist(data,centroid,cluster_size):\n",
    "    sum_dist=0\n",
    "    for i in data:\n",
    "        sum_dist=sum_dist+calc_distance(i,centroid)\n",
    "    average_dist=sum_dist/cluster_size\n",
    "    return average_dist"
   ]
  },
  {
   "cell_type": "code",
   "execution_count": null,
   "metadata": {},
   "outputs": [],
   "source": [
    "#Calculate DB Index\n",
    "def DBIndex(final_centroids_list,data_labels):\n",
    "    Ri=[]\n",
    "    for i in range(0,len(final_centroids_list)):\n",
    "        \n",
    "        cluster_size_i=len(data_labels[i])\n",
    "        si=average_dist(data_labels[i],final_centroids_list[i],cluster_size_i)\n",
    "        temp_dist=[]\n",
    "        for j in range(0,len(final_centroids_list)):\n",
    "            if i!=j:\n",
    "                cluster_size_j=len(data_labels[j])\n",
    "                sj=average_dist(data_labels[j],final_centroids_list[j],cluster_size_j)\n",
    "\n",
    "                dist_bw_clusters=calc_distance(final_centroids_list[i],final_centroids_list[j])\n",
    "                Rij=(si+sj)/dist_bw_clusters\n",
    "                temp_dist.append(Rij)\n",
    "        Ri.append(max(temp_dist))\n",
    "\n",
    "    DBsum=0\n",
    "    for i in Ri:\n",
    "        DBsum=DBsum+i\n",
    "    DBI=DBsum/len(final_centroids_list)\n",
    "    return DBI\n",
    "        \n",
    "    "
   ]
  },
  {
   "cell_type": "markdown",
   "metadata": {},
   "source": [
    "#### Testing and Plotting"
   ]
  },
  {
   "cell_type": "code",
   "execution_count": null,
   "metadata": {
    "scrolled": false
   },
   "outputs": [],
   "source": [
    "#plotting the clusters and centroids using 3D-plot for 3 features\n",
    "#Plotting DBI for the number of clusters 2 to 10 for 3 features\n",
    "DBI_list=[]\n",
    "for i in range(2,11):\n",
    "\n",
    "    print(\"number of clusters :\",str(i))\n",
    "    final_centroids_list,final_label_list=testKMeans(i,features_X_3)\n",
    "    data_labels=assign_final_labels(final_centroids_list,final_label_list,features_X_3)\n",
    "\n",
    "    Dbi=DBIndex(final_centroids_list,data_labels)\n",
    "    DBI_list.append(Dbi)\n",
    "\n",
    "    print(\"DBIndex : cluster \",str(i),\" is \",str(Dbi))\n",
    "    \n",
    "    \n",
    "    fig = plt.figure(figsize=plt.figaspect(0.5))\n",
    "    ax = fig.add_subplot(1,1,1, projection='3d')\n",
    "\n",
    "    feature1 = np.array(BSOM_data_3['avg_exam1'])\n",
    "    feature2 = np.array(BSOM_data_3['avg_exam2'])\n",
    "    feature3 = np.array(BSOM_data_3['exam3_final'])\n",
    "    centroids_plot=np.array(final_centroids_list)\n",
    "\n",
    "\n",
    "    ax.scatter(centroids_plot[:,0],centroids_plot[:,1],centroids_plot[:,2], c='Red', s=200, alpha=1)\n",
    "    ax.scatter(feature1,feature2,feature3, c=final_label_list, s=40, cmap=\"viridis\")\n",
    "\n",
    "    plt.show()\n",
    "clusters=np.arange(2,11)\n",
    "DB_Index=np.array(DBI_list)\n",
    "plt.plot(clusters,DB_Index)\n",
    "plt.title('K-Means with 3 features')\n",
    "plt.xlabel('#clusters')\n",
    "plt.ylabel('DB_Index')\n",
    "plt.show()\n"
   ]
  },
  {
   "cell_type": "markdown",
   "metadata": {},
   "source": [
    "#### K-Means with 4 features"
   ]
  },
  {
   "cell_type": "code",
   "execution_count": null,
   "metadata": {},
   "outputs": [],
   "source": [
    "#load the dataset with 4 features\n",
    "student_data_4=pd.read_csv('students_DataSet_revised.csv',usecols = ['avg_exam1', 'avg_exam2', 'exam3_final','avg_exam4'])\n",
    "student_data_4.head()"
   ]
  },
  {
   "cell_type": "code",
   "execution_count": null,
   "metadata": {},
   "outputs": [],
   "source": [
    "features_X_4=BSOM_data_4.iloc[:,:].values"
   ]
  },
  {
   "cell_type": "code",
   "execution_count": null,
   "metadata": {},
   "outputs": [],
   "source": [
    "#plotting DB Index for number of clusters 2 to 10 for 4 features\n",
    "DBI_list=[]\n",
    "for i in range(2,11):\n",
    "    \n",
    "    print(\"number of clusters :\",str(i))\n",
    "    final_centroids_list,final_label_list=testKMeans(i,features_X_4)\n",
    "    data_labels=assign_final_labels(final_centroids_list,final_label_list,features_X_4)\n",
    "\n",
    "    Dbi=DBIndex(final_centroids_list,data_labels)\n",
    "    DBI_list.append(Dbi)\n",
    "    print(\"DBIndex : cluster \",str(i),\" is \",str(Dbi))\n",
    "clusters=np.arange(2,11)\n",
    "DB_Index=np.array(DBI_list)\n",
    "plt.plot(clusters,DB_Index)\n",
    "plt.title('K-Means with 4 features')\n",
    "plt.xlabel('#clusters')\n",
    "plt.ylabel('DB_Index')\n",
    "plt.show()"
   ]
  },
  {
   "cell_type": "markdown",
   "metadata": {},
   "source": [
    "#### K-Means with 5 features"
   ]
  },
  {
   "cell_type": "code",
   "execution_count": null,
   "metadata": {},
   "outputs": [],
   "source": [
    "#load the dataset with 5 features\n",
    "BSOM_data_5=pd.read_csv('BSOM_DataSet_revised.csv',usecols = ['avg_exam1', 'avg_exam2', 'exam3_final','avg_exam4','exam5_final'])\n",
    "BSOM_data_5.head()"
   ]
  },
  {
   "cell_type": "code",
   "execution_count": null,
   "metadata": {},
   "outputs": [],
   "source": [
    "features_X_5=BSOM_data_5.iloc[:,:].values"
   ]
  },
  {
   "cell_type": "code",
   "execution_count": null,
   "metadata": {},
   "outputs": [],
   "source": [
    "#plotting DB Index for number of clusters 2 to 10 for 5 features\n",
    "DBI_list=[]\n",
    "for i in range(2,11):\n",
    "    \n",
    "    print(\"number of clusters :\",str(i))\n",
    "    final_centroids_list,final_label_list=testKMeans(i,features_X_5)\n",
    "    data_labels=assign_final_labels(final_centroids_list,final_label_list,features_X_5)\n",
    "\n",
    "    Dbi=DBIndex(final_centroids_list,data_labels)\n",
    "    DBI_list.append(Dbi)\n",
    "    print(\"DBIndex : cluster \",str(i),\" is \",str(Dbi))\n",
    "clusters=np.arange(2,11)\n",
    "DB_Index=np.array(DBI_list)\n",
    "plt.plot(clusters,DB_Index)\n",
    "plt.title('K-Means with 5 features')\n",
    "plt.xlabel('#clusters')\n",
    "plt.ylabel('DB_Index')\n",
    "plt.show()"
   ]
  },
  {
   "cell_type": "code",
   "execution_count": null,
   "metadata": {},
   "outputs": [],
   "source": []
  },
  {
   "cell_type": "code",
   "execution_count": null,
   "metadata": {},
   "outputs": [],
   "source": []
  }
 ],
 "metadata": {
  "kernelspec": {
   "display_name": "Python 3",
   "language": "python",
   "name": "python3"
  },
  "language_info": {
   "codemirror_mode": {
    "name": "ipython",
    "version": 3
   },
   "file_extension": ".py",
   "mimetype": "text/x-python",
   "name": "python",
   "nbconvert_exporter": "python",
   "pygments_lexer": "ipython3",
   "version": "3.7.3"
  }
 },
 "nbformat": 4,
 "nbformat_minor": 2
}
