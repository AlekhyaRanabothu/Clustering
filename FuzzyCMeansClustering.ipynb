{
 "cells": [
  {
   "cell_type": "markdown",
   "metadata": {},
   "source": [
    "### Fuzzy C Means Clustering"
   ]
  },
  {
   "cell_type": "code",
   "execution_count": null,
   "metadata": {},
   "outputs": [],
   "source": [
    "#Importing the libraries\n",
    "import numpy as np\n",
    "import pandas as pd\n",
    "import matplotlib.pyplot as plt\n",
    "import seaborn as sns\n",
    "from mpl_toolkits.mplot3d import Axes3D"
   ]
  },
  {
   "cell_type": "code",
   "execution_count": null,
   "metadata": {},
   "outputs": [],
   "source": [
    "#load the dataset with 3 features\n",
    "BSOM_data_3=pd.read_csv('BSOM_DataSet_revised.csv',usecols = ['avg_exam1', 'avg_exam2', 'exam3_final'])\n",
    "BSOM_data_3.head()"
   ]
  },
  {
   "cell_type": "code",
   "execution_count": null,
   "metadata": {},
   "outputs": [],
   "source": [
    "features_X_3 = BSOM_data_3.iloc[:,:].values"
   ]
  },
  {
   "cell_type": "code",
   "execution_count": null,
   "metadata": {},
   "outputs": [],
   "source": [
    "#initialize the membership matrix such that for each datapoint, sum of its membership in all the clusters is equal to 1.\n",
    "def init_membership(num_data,num_clusters):\n",
    "    Mem_matrix = np.zeros((num_data,num_clusters))\n",
    "    for i in range(0,num_data):\n",
    "        for j in range(0,num_clusters):\n",
    "            Mem_matrix[i][j]=np.random.random()\n",
    "        Mem_matrix[i]=Mem_matrix[i]/np.sum(Mem_matrix[i])\n",
    "    return Mem_matrix"
   ]
  },
  {
   "cell_type": "code",
   "execution_count": null,
   "metadata": {},
   "outputs": [],
   "source": [
    "#calculate the centroids from the initialised membership matrix\n",
    "#fuzzifier m=2\n",
    "def calc_centroid(features,mem_matrix,m=2):\n",
    "    centroids={}\n",
    "    \n",
    "    for k in range(0,mem_matrix.shape[1]):\n",
    "        temp_centroid=[]\n",
    "        for i in range(0,features.shape[1]):\n",
    "        \n",
    "            temp_num=np.sum(np.dot(mem_matrix[:,k]**m,features[:,i]))\n",
    "            temp_den=np.sum(mem_matrix[:,k]**m)\n",
    "\n",
    "            temp_centroid.append(temp_num/temp_den)\n",
    "\n",
    "        centroids[k]=np.array(temp_centroid)\n",
    "               \n",
    "         \n",
    "    return centroids"
   ]
  },
  {
   "cell_type": "code",
   "execution_count": null,
   "metadata": {},
   "outputs": [],
   "source": [
    "# calculate euclidean distance from data point to centroid\n",
    "def calc_distance(datapoint,centroid):\n",
    "    eucl_dist=np.sqrt(np.sum((datapoint-centroid)**2))\n",
    "    return eucl_dist"
   ]
  },
  {
   "cell_type": "code",
   "execution_count": null,
   "metadata": {},
   "outputs": [],
   "source": [
    "#update the membership matrix\n",
    "def update_membership(feature,centroid,m=2):\n",
    "    exp=2/(m-1)\n",
    "    updated_mem=np.zeros((feature.shape[0],len(centroid.keys())))\n",
    "    for i in range(0,feature.shape[0]):\n",
    "        for j in range(0,len(centroid.keys())):\n",
    "            num=(calc_distance(feature[i],centroid[j])**exp)\n",
    "            sum_mem=0\n",
    "            for k in range(0,len(centroid.keys())):\n",
    "                den=calc_distance(feature[i],centroid[k])\n",
    "                sum_mem=sum_mem+(1/(den)**exp)\n",
    "            mem=1/(num*sum_mem)\n",
    "            updated_mem[i,j]=mem\n",
    "    return updated_mem"
   ]
  },
  {
   "cell_type": "code",
   "execution_count": null,
   "metadata": {},
   "outputs": [],
   "source": [
    "#returns the hard labels of the fuzzy C Means from the final memberships\n",
    "def fuzzy_hardlabels(mem_matrix):\n",
    "    feature_lables = []\n",
    "    clusters={}\n",
    "    for i in range(0,mem_matrix.shape[0]):\n",
    "        max_mem, index = max((mem, index) for (index, mem) in enumerate(mem_matrix[i]))\n",
    "        feature_lables.append(index)\n",
    "    return feature_lables"
   ]
  },
  {
   "cell_type": "code",
   "execution_count": null,
   "metadata": {},
   "outputs": [],
   "source": [
    "#Fuzzy C Means Algorithm\n",
    "#convergence condition is error between the previous and the current membership matrices is 0.01\n",
    "def FuzzyCMeans(k,features_X,iterations=100):\n",
    "    mem_matrix=init_membership(features_X.shape[0],k)\n",
    "    centroids=calc_centroid(features_X,mem_matrix)\n",
    "    prev_mem_matrix=np.zeros(mem_matrix.shape)\n",
    "    count=1\n",
    "    feature_labels=[]\n",
    "    converge=False\n",
    "\n",
    "    while(count<=iterations):\n",
    "        feature_labels=[]\n",
    "                      \n",
    "        prev_mem_matrix=np.array(mem_matrix,copy=True)\n",
    "        mem_matrix=update_membership(features_X,centroids)\n",
    "        centroids=calc_centroid(features_X,mem_matrix)\n",
    "                \n",
    "        if np.linalg.norm(np.subtract(prev_mem_matrix,mem_matrix))<0.01:\n",
    "            #print(\"\\n error is :\",str(np.linalg.norm(np.subtract(prev_mem_matrix,mem_matrix))))\n",
    "            converge=True\n",
    "            print(\"convergence codition is reached at \"+str(count)+\" iterations\\n\")\n",
    "            break\n",
    "        count+=1\n",
    "            \n",
    "       \n",
    "    return mem_matrix,centroids       "
   ]
  },
  {
   "cell_type": "code",
   "execution_count": null,
   "metadata": {},
   "outputs": [],
   "source": [
    "#takes the number of clusters and data points as input and returns the labels and cluster centers of FuzzyCMeans algorithm\n",
    "def testFuzzyMeans(k,features_X):\n",
    "\n",
    "    final_mem_matrix,centroids_list=FuzzyCMeans(k,features_X)\n",
    "    final_centroids_list=[]\n",
    "    for i in range(0,len(centroids_list.keys())):\n",
    "              final_centroids_list.append(centroids_list[i])\n",
    "    print(final_centroids_list)    \n",
    "    final_label_list=fuzzy_hardlabels(final_mem_matrix)\n",
    "    print(\"Final cluster centroids :\\n\",str(final_centroids_list))\n",
    "    return final_centroids_list,final_label_list"
   ]
  },
  {
   "cell_type": "code",
   "execution_count": null,
   "metadata": {},
   "outputs": [],
   "source": [
    "#assign final cluster labels to datapoints\n",
    "def assign_final_labels(final_centroids_list,final_label_list,features_X):\n",
    "    data_with_labels={}\n",
    "    for i in range(0,len(final_label_list)):\n",
    "        x=final_label_list[i]\n",
    "        if x in data_with_labels.keys():\n",
    "            data_with_labels[x].append(features_X[i])\n",
    "        else:\n",
    "            data_with_labels[x]=[]\n",
    "            data_with_labels[x].append(features_X[i])\n",
    "    return data_with_labels"
   ]
  },
  {
   "cell_type": "code",
   "execution_count": null,
   "metadata": {},
   "outputs": [],
   "source": [
    "#finding the average distance of the points within the cluster\n",
    "def average_dist(data,centroid,cluster_size):\n",
    "    sum_dist=0\n",
    "    for i in data:\n",
    "        sum_dist=sum_dist+calc_distance(i,centroid)\n",
    "    average_dist=sum_dist/cluster_size\n",
    "    return average_dist"
   ]
  },
  {
   "cell_type": "code",
   "execution_count": null,
   "metadata": {},
   "outputs": [],
   "source": [
    "#Calculate DB Index\n",
    "def DBIndex(final_centroids_list,data_labels):\n",
    "    Ri=[]\n",
    "    for i in range(0,len(final_centroids_list)):\n",
    "        \n",
    "        cluster_size_i=len(data_labels[i])\n",
    "        si=average_dist(data_labels[i],final_centroids_list[i],cluster_size_i)\n",
    "        temp_dist=[]\n",
    "        for j in range(0,len(final_centroids_list)):\n",
    "            if i!=j:\n",
    "                cluster_size_j=len(data_labels[j])\n",
    "                sj=average_dist(data_labels[j],final_centroids_list[j],cluster_size_j)\n",
    "\n",
    "                dist_bw_clusters=calc_distance(final_centroids_list[i],final_centroids_list[j])\n",
    "                Rij=(si+sj)/dist_bw_clusters\n",
    "                temp_dist.append(Rij)\n",
    "        Ri.append(max(temp_dist))\n",
    "    DBsum=0\n",
    "    for i in Ri:\n",
    "        DBsum=DBsum+i\n",
    "    DBI=DBsum/len(final_centroids_list)\n",
    "    return DBI"
   ]
  },
  {
   "cell_type": "markdown",
   "metadata": {},
   "source": [
    "#### Testing and plotting"
   ]
  },
  {
   "cell_type": "code",
   "execution_count": null,
   "metadata": {},
   "outputs": [],
   "source": [
    "#plot the 3D plot of Fuzzy C means clusters with optimal number of clusters(3) and best number\n",
    "#of features(3) obtained in k-Means clustering\n",
    "\n",
    "final_centroids_list,final_label_list=testFuzzyMeans(3,features_X_3)\n",
    "fig = plt.figure(figsize=plt.figaspect(0.5))\n",
    "ax = fig.add_subplot(1,1,1, projection='3d')\n",
    "feature1 = np.array(BSOM_data_3['avg_exam1'])\n",
    "feature2 = np.array(BSOM_data_3['avg_exam2'])\n",
    "feature3 = np.array(BSOM_data_3['exam3_final'])\n",
    "centroids_plot=np.array(final_centroids_list)\n",
    "\n",
    "\n",
    "ax.scatter(centroids_plot[:,0],centroids_plot[:,1],centroids_plot[:,2], c='Red', s=200, alpha=1)\n",
    "ax.scatter(feature1,feature2,feature3, c=final_label_list, s=40, cmap=\"viridis\")\n",
    "\n",
    "plt.show()"
   ]
  },
  {
   "cell_type": "code",
   "execution_count": null,
   "metadata": {},
   "outputs": [],
   "source": [
    "#Calculate DBI for optimum clusters(3) and best #features obtained from K Means\n",
    "print(\"optimum number of clusters :\",str(3),\"best number of features : \",str(3))\n",
    "final_centroids_list,final_label_list=testFuzzyMeans(3,features_X_3)\n",
    "data_labels=assign_final_labels(final_centroids_list,final_label_list,features_X_3)\n",
    "Dbi=DBIndex(final_centroids_list,data_labels)\n",
    "print(\"DBIndex : clusters \",str(3),\" is \",str(Dbi))"
   ]
  },
  {
   "cell_type": "code",
   "execution_count": null,
   "metadata": {},
   "outputs": [],
   "source": [
    "#Calculate DBI for optimum clusters(2) and best #features obtained from K Means\n",
    "print(\"optimum number of clusters :\",str(2),\"best number of features : \",str(3))\n",
    "final_centroids_list,final_label_list=testFuzzyMeans(2,features_X_3)\n",
    "data_labels=assign_final_labels(final_centroids_list,final_label_list,features_X_3)\n",
    "Dbi=DBIndex(final_centroids_list,data_labels)\n",
    "print(\"DBIndex : clusters \",str(2),\" is \",str(Dbi))"
   ]
  },
  {
   "cell_type": "code",
   "execution_count": null,
   "metadata": {},
   "outputs": [],
   "source": [
    "#plotting #clusters 2 to 10 and DBI for 3 features\n",
    "DBI_list=[]\n",
    "for i in range(2,11):\n",
    "    \n",
    "    print(\"number of clusters :\",str(i))\n",
    "    final_centroids_list,final_label_list=testFuzzyMeans(i,features_X_3)\n",
    "    #print(final_label_list)\n",
    "    data_labels=assign_final_labels(final_centroids_list,final_label_list,features_X_3)\n",
    "\n",
    "    Dbi=DBIndex(final_centroids_list,data_labels)\n",
    "    DBI_list.append(Dbi)\n",
    "    print(\"DBIndex : cluster \",str(i),\" is \",str(Dbi))\n",
    "clusters=np.arange(2,11)\n",
    "DB_Index=np.array(DBI_list)\n",
    "plt.plot(clusters,DB_Index)\n",
    "plt.title('Fuzzy-C-Means with 3 features')\n",
    "plt.xlabel('#clusters')\n",
    "plt.ylabel('DB_Index')\n",
    "plt.show()"
   ]
  },
  {
   "cell_type": "markdown",
   "metadata": {},
   "source": [
    "#### Fuzzy clustering with 4 features"
   ]
  },
  {
   "cell_type": "code",
   "execution_count": null,
   "metadata": {},
   "outputs": [],
   "source": [
    "#load the dataset with 4 features\n",
    "BSOM_data_4=pd.read_csv('BSOM_DataSet_revised.csv',usecols = ['avg_exam1', 'avg_exam2', 'exam3_final','avg_exam4'])\n",
    "BSOM_data_4.head()"
   ]
  },
  {
   "cell_type": "code",
   "execution_count": null,
   "metadata": {},
   "outputs": [],
   "source": [
    "features_X_4=BSOM_data_4.iloc[:,:].values"
   ]
  },
  {
   "cell_type": "code",
   "execution_count": null,
   "metadata": {},
   "outputs": [],
   "source": [
    "#Calculate DBI for optimum clusters and best #features obtained from K Means\n",
    "print(\"optimum number of clusters :\",str(3),\" number of features : \",str(4))\n",
    "final_centroids_list,final_label_list=testFuzzyMeans(3,features_X_4)\n",
    "data_labels=assign_final_labels(final_centroids_list,final_label_list,features_X_4)\n",
    "Dbi=DBIndex(final_centroids_list,data_labels)\n",
    "print(\"DBIndex : clusters \",str(3),\" is \",str(Dbi))"
   ]
  },
  {
   "cell_type": "code",
   "execution_count": null,
   "metadata": {},
   "outputs": [],
   "source": [
    "#Calculate DBI for optimum clusters and best #features obtained from K Means\n",
    "print(\"optimum number of clusters :\",str(2),\" number of features : \",str(4))\n",
    "final_centroids_list,final_label_list=testFuzzyMeans(2,features_X_4)\n",
    "data_labels=assign_final_labels(final_centroids_list,final_label_list,features_X_4)\n",
    "Dbi=DBIndex(final_centroids_list,data_labels)\n",
    "print(\"DBIndex : clusters \",str(2),\" is \",str(Dbi))"
   ]
  },
  {
   "cell_type": "code",
   "execution_count": null,
   "metadata": {},
   "outputs": [],
   "source": [
    "#plotting #clusters 2 to 10 and DBI for 4 features\n",
    "DBI_list=[]\n",
    "for i in range(2,11):\n",
    "    \n",
    "    print(\"number of clusters :\",str(i))\n",
    "    final_centroids_list,final_label_list=testFuzzyMeans(i,features_X_4)\n",
    "    #print(final_label_list)\n",
    "    data_labels=assign_final_labels(final_centroids_list,final_label_list,features_X_4)\n",
    "\n",
    "    Dbi=DBIndex(final_centroids_list,data_labels)\n",
    "    DBI_list.append(Dbi)\n",
    "    print(\"DBIndex : cluster \",str(i),\" is \",str(Dbi))\n",
    "clusters=np.arange(2,11)\n",
    "DB_Index=np.array(DBI_list)\n",
    "plt.plot(clusters,DB_Index)\n",
    "plt.title('Fuzzy-C-Means with 4 features')\n",
    "plt.xlabel('#clusters')\n",
    "plt.ylabel('DB_Index')\n",
    "plt.show()"
   ]
  },
  {
   "cell_type": "code",
   "execution_count": null,
   "metadata": {},
   "outputs": [],
   "source": []
  }
 ],
 "metadata": {
  "kernelspec": {
   "display_name": "Python 3",
   "language": "python",
   "name": "python3"
  },
  "language_info": {
   "codemirror_mode": {
    "name": "ipython",
    "version": 3
   },
   "file_extension": ".py",
   "mimetype": "text/x-python",
   "name": "python",
   "nbconvert_exporter": "python",
   "pygments_lexer": "ipython3",
   "version": "3.7.3"
  }
 },
 "nbformat": 4,
 "nbformat_minor": 2
}
